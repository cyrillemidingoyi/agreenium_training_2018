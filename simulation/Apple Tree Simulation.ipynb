{
 "cells": [
  {
   "cell_type": "markdown",
   "metadata": {},
   "source": [
    "# Simulation of the growth and development of an apple tree"
   ]
  },
  {
   "cell_type": "markdown",
   "metadata": {},
   "source": [
    "## Loading meteo data"
   ]
  },
  {
   "cell_type": "code",
   "execution_count": 40,
   "metadata": {},
   "outputs": [],
   "source": [
    "# Loading meteo data\n",
    "import meteo ; reload(meteo)\n",
    "from meteo import *\n",
    "init_temperatures()"
   ]
  },
  {
   "cell_type": "code",
   "execution_count": 41,
   "metadata": {
    "example": true,
    "tags": [
     "example"
    ]
   },
   "outputs": [
    {
     "data": {
      "image/png": "[encoded data removed]",
      "text/plain": [
       "<matplotlib.figure.Figure at 0x10ef82410>"
      ]
     },
     "metadata": {},
     "output_type": "display_data"
    }
   ],
   "source": [
    "# Example of Use\n",
    "\n",
    "get_temperature(date(2010,1,1))\n",
    "\n",
    "from matplotlib.pyplot import plot, show\n",
    "\n",
    "plot(get_all_dates(), get_all_temperatures())\n",
    "show()"
   ]
  },
  {
   "cell_type": "markdown",
   "metadata": {},
   "source": [
    "## Modelling thermal time\n",
    "\n",
    "Thermal time consists in accumulating each day the temperature above a given threshold. "
   ]
  },
  {
   "cell_type": "code",
   "execution_count": 4,
   "metadata": {},
   "outputs": [],
   "source": [
    "base_temperature = 5\n",
    "\n",
    "class ThermalTime:\n",
    "    def __init__(self, base_temperature):\n",
    "        self.base_temperature = base_temperature\n",
    "    def get_effective_temperature(self, cdate):\n",
    "        ctemp = get_temperature(cdate)\n",
    "        return max(0, ctemp-self.base_temperature)\n",
    "    def get_effective_temperatures(self, beg_date, end_date):\n",
    "        return [max(0,ctemp-self.base_temperature) for ctemp in get_temperatures(beg_date, end_date)]\n",
    "\n",
    "mthermaltime = ThermalTime(base_temperature)"
   ]
  },
  {
   "cell_type": "markdown",
   "metadata": {},
   "source": [
    "### Organ production\n",
    "\n",
    "The rate of production of metamer by an apex is given with the following equation\n",
    "\n",
    "$R_i(d) = r_i x T_{eff}(d)$ if $N_i(d)<N_{f,i}$ and $d < D_e$\n",
    "\n",
    "       = 0 else\n",
    "\n",
    "with $r_i$ the rate of metamer production in thermal time, $T_{eff}(d)$ the accumulated thermal time at date $d$, $N_{f,i}$ the final number of metamer and $D_e$ the date of plant growth arrest."
   ]
  },
  {
   "cell_type": "code",
   "execution_count": 42,
   "metadata": {},
   "outputs": [],
   "source": [
    "metamerprodrate = 0.05\n",
    "date_end_production = 252"
   ]
  },
  {
   "cell_type": "code",
   "execution_count": 43,
   "metadata": {},
   "outputs": [],
   "source": [
    "class MetamerProduction:\n",
    "    def __init__(self, rate, nbfinalmetamer, maxdate = date_end_production):\n",
    "        self.rate = rate\n",
    "        self.nbfinalmetamer = nbfinalmetamer\n",
    "        self.nbmetamer = 0\n",
    "        self.maxdate = maxdate\n",
    "        \n",
    "    def accumulate(self, cdate):\n",
    "        ttime = mthermaltime.get_effective_temperature(cdate)\n",
    "        if self.nbmetamer < self.nbfinalmetamer and (cdate -date(cdate.year,1,1)).days < self.maxdate :\n",
    "            production = self.rate*ttime\n",
    "            prevnbmetamer = int(self.nbmetamer)\n",
    "            self.nbmetamer += production\n",
    "            if int(self.nbmetamer) >  prevnbmetamer:\n",
    "                return int(self.nbmetamer) - prevnbmetamer\n",
    "            return 0\n",
    "        return 0"
   ]
  },
  {
   "cell_type": "markdown",
   "metadata": {},
   "source": [
    "## Organ final size\n",
    "\n",
    "We distinguish the organ produced at the begining of the growth unit (preformed) from the other ones."
   ]
  },
  {
   "cell_type": "code",
   "execution_count": 44,
   "metadata": {},
   "outputs": [],
   "source": [
    "# Parameters\n",
    "FinalLeafArea1 = 12.\n",
    "FinalLeafArea2 = 25.\n",
    "\n",
    "InternodeLength1 = 1\n",
    "InternodeLength2 = 2.5\n",
    "\n",
    "InternodeRadius = 0.3 "
   ]
  },
  {
   "cell_type": "code",
   "execution_count": 45,
   "metadata": {},
   "outputs": [],
   "source": [
    "def leaf_area(rank):\n",
    "    if rank < 7:\n",
    "        return FinalLeafArea1\n",
    "    else:\n",
    "        return FinalLeafArea2\n",
    "\n",
    "def internode_length(rank):\n",
    "    if rank < 7:\n",
    "        return InternodeLength1\n",
    "    else:\n",
    "        return InternodeLength2        "
   ]
  },
  {
   "cell_type": "markdown",
   "metadata": {},
   "source": [
    "## Organ expansion"
   ]
  },
  {
   "cell_type": "markdown",
   "metadata": {},
   "source": [
    "Growth will be modelled with a logistic function of the shape.\n",
    "\n",
    "<center>\n",
    "$ s(t) = \\frac{A}{1+exp^{-\\frac{t-t_{ip}}{b}}}$\n",
    "</center>\n",
    "\n",
    "With $A$ the maximum size, $t_{ip}$ the time at inflexion point and $b$ a slope parameter.\n",
    "Its derivatives that gives the rate of growth will be\n",
    "\n",
    "<center>\n",
    "$ \\frac{ds}{dt} = \\frac{A.exp^{-\\frac{t-t_{ip}}{b}} }{ b.(1+exp^{-\\frac{t-t_{ip}}{b}})^2}$\n",
    "</center>\n"
   ]
  },
  {
   "cell_type": "code",
   "execution_count": 10,
   "metadata": {},
   "outputs": [],
   "source": [
    "from math import exp\n",
    "\n",
    "def growth_logistic(ttime, finalsize, tip, b):\n",
    "    return finalsize / (1 + exp(-(ttime-tip)/b ))\n",
    "\n",
    "def growth_logistic_at_date(begdate, cdate, finalsize, tip, b):\n",
    "    ttime = sum(mthermaltime.get_effective_temperatures(begdate, cdate))\n",
    "    return growth_logistic(ttime, finalsize, tip, b)\n",
    "\n",
    "def growth_rate(ttime, finalsize, tip, b):\n",
    "    g = exp(-(ttime-tip)/b )\n",
    "    return (finalsize * g)  / ( b * pow((1+g),2))\n",
    "\n",
    "\n",
    "def growth_rate_at_date(begdate, cdate, finalsize, tip, b):\n",
    "    ttime = sum(mthermaltime.get_effective_temperatures(begdate, cdate))\n",
    "    return growth_rate(ttime, finalsize, tip, b)"
   ]
  },
  {
   "cell_type": "markdown",
   "metadata": {},
   "source": [
    "We can parameterize the previous with the following value for the leaf and internode."
   ]
  },
  {
   "cell_type": "code",
   "execution_count": 9,
   "metadata": {},
   "outputs": [],
   "source": [
    "# Parameters\n",
    "tip_leaf = 100.\n",
    "tip_internode = 100.\n",
    "\n",
    "b_leaf = 30.\n",
    "b_internode = 30."
   ]
  },
  {
   "cell_type": "code",
   "execution_count": 11,
   "metadata": {
    "example": true,
    "tags": [
     "example"
    ]
   },
   "outputs": [
    {
     "data": {
      "image/png": "[encoded data removed]",
      "text/plain": [
       "<matplotlib.figure.Figure at 0x10efa2550>"
      ]
     },
     "metadata": {},
     "output_type": "display_data"
    },
    {
     "data": {
      "image/png": "[encoded data removed]",
      "text/plain": [
       "<matplotlib.figure.Figure at 0x10f099c50>"
      ]
     },
     "metadata": {},
     "output_type": "display_data"
    },
    {
     "data": {
      "image/png": "[encoded data removed]",
      "text/plain": [
       "<matplotlib.figure.Figure at 0x10f16d790>"
      ]
     },
     "metadata": {},
     "output_type": "display_data"
    }
   ],
   "source": [
    "# Example of Use\n",
    "begdate = date(2010,4,1)\n",
    "growthperiod = [begdate+timedelta(days=i-1) for i in xrange(50)]\n",
    "\n",
    "plot(growthperiod, map(lambda d : growth_logistic_at_date(begdate, d, FinalLeafArea2, tip_leaf, b_leaf), growthperiod))\n",
    "show()\n",
    "\n",
    "rate = list(map(lambda d : growth_rate_at_date(begdate, d, FinalLeafArea2, tip_leaf, b_leaf), growthperiod))\n",
    "plot(growthperiod, rate)\n",
    "show()\n",
    "\n",
    "from numpy import dot, cumsum\n",
    "integration = [a*b for a,b in zip(mthermaltime.get_effective_temperatures(begdate, begdate+timedelta(days=50)),rate)]\n",
    "plot(growthperiod, cumsum(integration))\n",
    "show()"
   ]
  },
  {
   "cell_type": "markdown",
   "metadata": {},
   "source": [
    "## Growth unit length"
   ]
  },
  {
   "cell_type": "code",
   "execution_count": 46,
   "metadata": {},
   "outputs": [],
   "source": [
    "from namedenum import enum\n",
    "enum('ShortGU', 'MediumGU', 'LongGU', 'Inflo', 'TrunkGU', 'Blind', 'SyllepticShort', 'SyllepticMedium', 'SyllepticLong')\n",
    "\n",
    "gulengthlaw = { ShortGU : (5, 0.5),\n",
    "                MediumGU : (12, 3.5),\n",
    "                LongGU : (28, 12.2),\n",
    "                Inflo : (3, 0.2),\n",
    "                TrunkGU : (50, 6.5)}\n",
    "\n",
    "from random import gauss\n",
    "\n",
    "def growth_unit_length(gutype):\n",
    "    mean, sd = gulengthlaw[gutype]\n",
    "    return gauss(mean,sd)"
   ]
  },
  {
   "cell_type": "markdown",
   "metadata": {},
   "source": [
    "## Growth unit succession and flowering among years"
   ]
  },
  {
   "cell_type": "code",
   "execution_count": 47,
   "metadata": {},
   "outputs": [],
   "source": [
    "sucessiontypes = [ShortGU, MediumGU, LongGU, Inflo]\n",
    "successionmatrix = [[0.45, 0.1, 0.05, 0.4],\n",
    "                    [0.4, 0.15, 0.05, 0.4],\n",
    "                    [0.25, 0.25, 0.1, 0.4],\n",
    "                    [0.65, 0.3, 0.05, 0]\n",
    "                   ]\n",
    "from random import uniform\n",
    "from numpy import cumsum\n",
    "\n",
    "def realization_in_probaranges(probas):\n",
    "    cumsum_probs = cumsum(probas)\n",
    "    totalprob = cumsum_probs[-1]\n",
    "    cumsum_probs /= totalprob\n",
    "    assert abs(cumsum_probs[-1] -1) < 1e-5\n",
    "    unif_realization = float( uniform(0,1) )\n",
    "    i = 0\n",
    "    while unif_realization >= cumsum_probs[i] : i += 1\n",
    "    return i\n",
    "\n",
    "def succession(gutype):\n",
    "    if gutype == TrunkGU : return LongGU\n",
    "    probas = successionmatrix[gutype]\n",
    "    return sucessiontypes[realization_in_probaranges(probas)]\n"
   ]
  },
  {
   "cell_type": "code",
   "execution_count": 48,
   "metadata": {
    "example": true,
    "tags": [
     "example"
    ]
   },
   "outputs": [
    {
     "name": "stdout",
     "output_type": "stream",
     "text": [
      "4.19159160477\n",
      "Inflo\n",
      "ShortGU\n"
     ]
    }
   ],
   "source": [
    "# Example of Use\n",
    "\n",
    "print growth_unit_length(ShortGU)\n",
    "print succession(LongGU)\n",
    "print succession(Inflo)"
   ]
  },
  {
   "cell_type": "markdown",
   "metadata": {},
   "source": [
    "## Branching probability"
   ]
  },
  {
   "cell_type": "code",
   "execution_count": 49,
   "metadata": {},
   "outputs": [],
   "source": [
    "lateraltypes = [Blind, ShortGU, MediumGU, LongGU, Inflo, SyllepticShort, SyllepticMedium, SyllepticLong]\n",
    "\n",
    "branchingmatrixlong = [[0.7,0.3,0.05,0.05,0,0,0,0],\n",
    "[0.5,0.2,0.15,0.05,0,0,0,0],\n",
    "[0.6,0.3,0.1,0,0,0,0,0],\n",
    "[0.9,0.1,0,0,0,0,0,0],\n",
    "[0.6,0.1,0,0,0,0.05,0.05,0.05],\n",
    "[0.6,0.1,0.1,0,0,0.05,0.05,0],\n",
    "[0.55,0.1,0,0,0.3,0.03,0,0],\n",
    "[0.55,0.05,0.1,0.05,0.2,0.02,0,0],\n",
    "[0.4,0.1,0.2,0.2,0.1,0,0,0],\n",
    "[0.75,0.1,0.1,0.05,0,0,0,0]]\n",
    "\n",
    "branchingmatrixmedium = [[0.7,0.3,0.05,0.05,0,0,0,0],\n",
    "[0.5,0.2,0.15,0.05,0,0,0,0],\n",
    "[0.6,0.3,0.1,0,0,0,0,0],\n",
    "[0.9,0.1,0,0,0,0,0,0],\n",
    "[0.6,0.1,0,0,0,0.05,0.05,0.05],\n",
    "[0.6,0.1,0.1,0,0,0.05,0.05,0],\n",
    "[0.55,0.1,0,0,0.3,0.03,0,0],\n",
    "[0.55,0.05,0.1,0.05,0.2,0.02,0,0],\n",
    "[0.4,0.1,0.2,0.2,0.1,0,0,0],\n",
    "[0.75,0.1,0.1,0.05,0,0,0,0]]\n",
    "\n",
    "\n",
    "def branching(gutype, u):\n",
    "    i, _ = divmod(u, 0.1)\n",
    "    if gutype in [ShortGU,Inflo] : return Blind\n",
    "    branchingmatrix = branchingmatrixlong if gutype in [TrunkGU,LongGU] else branchingmatrixmedium\n",
    "    probas = branchingmatrix[int(i)]\n",
    "    return lateraltypes[realization_in_probaranges(probas)]\n",
    "\n",
    "\n",
    "    "
   ]
  },
  {
   "cell_type": "code",
   "execution_count": 50,
   "metadata": {
    "example": true,
    "tags": [
     "example"
    ]
   },
   "outputs": [
    {
     "name": "stdout",
     "output_type": "stream",
     "text": [
      "Blind\n"
     ]
    }
   ],
   "source": [
    "# Example of Use\n",
    "\n",
    "print branching(LongGU, 0.5)"
   ]
  },
  {
   "cell_type": "markdown",
   "metadata": {},
   "source": [
    "# Architecture simulation\n",
    "\n"
   ]
  }
 ],
 "metadata": {
  "kernelspec": {
   "display_name": "Python 2",
   "language": "python",
   "name": "python2"
  },
  "language_info": {
   "codemirror_mode": {
    "name": "ipython",
    "version": 2
   },
   "file_extension": ".py",
   "mimetype": "text/x-python",
   "name": "python",
   "nbconvert_exporter": "python",
   "pygments_lexer": "ipython2",
   "version": "2.7.14"
  }
 },
 "nbformat": 4,
 "nbformat_minor": 2
}
