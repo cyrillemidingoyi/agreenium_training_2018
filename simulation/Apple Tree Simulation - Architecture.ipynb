{
 "cells": [
  {
   "cell_type": "markdown",
   "metadata": {},
   "source": [
    "# Simulation of the growth and development of an apple tree 2 - Architecture"
   ]
  },
  {
   "cell_type": "code",
   "execution_count": null,
   "metadata": {},
   "outputs": [],
   "source": [
    "import namedenum ; reload(namedenum)\n",
    "from namedenum import enum\n",
    "gutypes = enum('ShortGU', 'MediumGU', 'LongGU', 'Inflo', 'TrunkGU', 'Blind', 'SyllepticShort', 'SyllepticMedium', 'SyllepticLong')\n"
   ]
  },
  {
   "cell_type": "markdown",
   "metadata": {},
   "source": [
    "## Growth unit succession and flowering among years"
   ]
  },
  {
   "cell_type": "code",
   "execution_count": 35,
   "metadata": {},
   "outputs": [],
   "source": [
    "sucessiontypes = [ShortGU, MediumGU, LongGU, Inflo]\n",
    "successionmatrix = [[0.45, 0.1, 0.05, 0.4],\n",
    "                    [0.4, 0.15, 0.05, 0.4],\n",
    "                    [0.25, 0.25, 0.1, 0.4],\n",
    "                    [0.65, 0.3, 0.05, 0]\n",
    "                   ]\n",
    "from random import uniform\n",
    "from numpy import cumsum\n",
    "\n",
    "def realization_in_probaranges(probas):\n",
    "    cumsum_probs = cumsum(probas)\n",
    "    totalprob = cumsum_probs[-1]\n",
    "    cumsum_probs /= totalprob\n",
    "    assert abs(cumsum_probs[-1] -1) < 1e-5\n",
    "    unif_realization = float( uniform(0,1) )\n",
    "    i = 0\n",
    "    while unif_realization >= cumsum_probs[i] : i += 1\n",
    "    return i\n",
    "\n",
    "def succession(gutype):\n",
    "    if gutype == TrunkGU : return LongGU\n",
    "    probas = successionmatrix[gutype]\n",
    "    return sucessiontypes[realization_in_probaranges(probas)]\n"
   ]
  },
  {
   "cell_type": "code",
   "execution_count": 36,
   "metadata": {
    "example": true,
    "tags": [
     "example"
    ]
   },
   "outputs": [
    {
     "name": "stdout",
     "output_type": "stream",
     "text": [
      "Inflo\n",
      "MediumGU\n"
     ]
    }
   ],
   "source": [
    "# Example of Use\n",
    "\n",
    "print succession(LongGU)\n",
    "print succession(Inflo)"
   ]
  },
  {
   "cell_type": "markdown",
   "metadata": {},
   "source": [
    "## Branching probability"
   ]
  },
  {
   "cell_type": "code",
   "execution_count": 37,
   "metadata": {},
   "outputs": [],
   "source": [
    "lateraltypes = [Blind, ShortGU, MediumGU, LongGU, Inflo, SyllepticShort, SyllepticMedium, SyllepticLong]\n",
    "\n",
    "branchingmatrixlong = [[0.7,0.3,0.05,0.05,0,0,0,0],\n",
    "[0.5,0.2,0.15,0.05,0,0,0,0],\n",
    "[0.6,0.3,0.1,0,0,0,0,0],\n",
    "[0.9,0.1,0,0,0,0,0,0],\n",
    "[0.6,0.1,0,0,0,0.05,0.05,0.05],\n",
    "[0.6,0.1,0.1,0,0,0.05,0.05,0],\n",
    "[0.55,0.1,0,0,0.3,0.03,0,0],\n",
    "[0.55,0.05,0.1,0.05,0.2,0.02,0,0],\n",
    "[0.4,0.1,0.2,0.2,0.1,0,0,0],\n",
    "[0.75,0.1,0.1,0.05,0,0,0,0]]\n",
    "\n",
    "branchingmatrixmedium = [[0.7,0.3,0.05,0.05,0,0,0,0],\n",
    "[0.5,0.2,0.15,0.05,0,0,0,0],\n",
    "[0.6,0.3,0.1,0,0,0,0,0],\n",
    "[0.9,0.1,0,0,0,0,0,0],\n",
    "[0.6,0.1,0,0,0,0.05,0.05,0.05],\n",
    "[0.6,0.1,0.1,0,0,0.05,0.05,0],\n",
    "[0.55,0.1,0,0,0.3,0.03,0,0],\n",
    "[0.55,0.05,0.1,0.05,0.2,0.02,0,0],\n",
    "[0.4,0.1,0.2,0.2,0.1,0,0,0],\n",
    "[0.75,0.1,0.1,0.05,0,0,0,0]]\n",
    "\n",
    "\n",
    "def branching(gutype, u):\n",
    "    i, _ = divmod(u, 0.1)\n",
    "    if gutype in [ShortGU,Inflo] : return Blind\n",
    "    branchingmatrix = branchingmatrixlong if gutype in [TrunkGU,LongGU] else branchingmatrixmedium\n",
    "    probas = branchingmatrix[int(i)]\n",
    "    return lateraltypes[realization_in_probaranges(probas)]\n",
    "\n",
    "\n",
    "    "
   ]
  },
  {
   "cell_type": "code",
   "execution_count": 38,
   "metadata": {
    "example": true,
    "tags": [
     "example"
    ]
   },
   "outputs": [
    {
     "name": "stdout",
     "output_type": "stream",
     "text": [
      "SyllepticLong\n"
     ]
    }
   ],
   "source": [
    "# Example of Use\n",
    "\n",
    "print branching(LongGU, 0.5)"
   ]
  },
  {
   "cell_type": "markdown",
   "metadata": {},
   "source": [
    "## Modelling architecture development\n",
    "\n",
    "Open in L-Py [this model](./architecture.lpy)"
   ]
  },
  {
   "cell_type": "code",
   "execution_count": null,
   "metadata": {
    "tags": [
     "example"
    ]
   },
   "outputs": [],
   "source": [
    "# %load architecture.lpy\n",
    "from notebook_util import notebook\n",
    "exec(notebook('Apple Tree Simulation - Architecture.ipynb'))\n",
    "\n",
    "from math import *\n",
    "\n",
    "cdate = None\n",
    "def initcdate():\n",
    "  global cdate\n",
    "  cdate = meteo.get_first_day_for_temperature()+timedelta(days=120)\n",
    "\n",
    "initcdate()\n",
    "\n",
    "def Start():\n",
    "  initcdate()\n",
    "\n",
    "\n",
    "def StartEach():\n",
    "  global cdate\n",
    "  cdate += timedelta(days=1)\n",
    "\n",
    "module Meristem\n",
    "module Leaf\n",
    "module Internode\n",
    "module SimuInfo\n",
    "\n",
    "def init_meristem(gutype, parentdate = None):\n",
    "  if parentdate is None:\n",
    "    init_date = date(cdate.year, 4, 1)\n",
    "  elif gutype in  [SyllepticShort, SyllepticMedium, SyllepticLong]:\n",
    "    init_date = cdate\n",
    "    gutype -= 4 # SyllepticLong become Long, etc.\n",
    "  else:\n",
    "    init_date = date(parentdate.year+1, 4, 1)\n",
    "  assert gutype in [ShortGU, MediumGU, LongGU, Inflo, TrunkGU]\n",
    "  nbmetamer = growth_unit_length(gutype)\n",
    "  p = ParameterSet(gutype = gutype,\n",
    "                   mp = MetamerProduction(metamerprodrate, nbmetamer),\n",
    "                   init_date = init_date)\n",
    "  return p\n",
    "\n",
    "Axiom:\n",
    "  nproduce @Tp(0,0,-1) @Ts(0.005) Meristem(init_meristem(TrunkGU))\n",
    "  produce SimuInfo\n",
    "\n",
    "derivation length: 1200\n",
    "production:\n",
    "\n",
    "Meristem(p):\n",
    "  if p.init_date <= cdate:\n",
    "    previousnbmetamer = p.mp.nbmetamer\n",
    "    nbnewmetamer = p.mp.accumulate(cdate)\n",
    "    for i in xrange(nbnewmetamer):\n",
    "      rank =  previousnbmetamer+i\n",
    "      normalizedrank = rank / p.mp.nbfinalmetamer\n",
    "      nproduce Internode(ParameterSet(length=0.01, finallength = internode_length(rank = rank), width=0.01, ttime = 0))\n",
    "      nproduce   [ /(144*rank) &(60) Leaf(ParameterSet(area=0, finalarea = leaf_area(rank = 1), width=0.1, ttime = 0)) ]\n",
    "      ramiftype = branching(p.gutype, normalizedrank)\n",
    "      #if p.gutype == TrunkGU:\n",
    "      #  print TypeNames[ramiftype]\n",
    "      if ramiftype != Blind:\n",
    "        nproduce [ &(30) Meristem(init_meristem(ramiftype, p.init_date)) ]\n",
    "    \n",
    "    if p.mp.nbmetamer < p.mp.nbfinalmetamer:\n",
    "      nproduce Meristem(p)\n",
    "    else:\n",
    "      # succession\n",
    "      produce Meristem(init_meristem(succession(p.gutype), p.init_date))\n",
    "          \n",
    "  \n",
    "\n",
    "Internode(p) :\n",
    "  cttime = mthermaltime.get_effective_temperature(cdate)\n",
    "  p.ttime += cttime\n",
    "  \n",
    "  p.length += growth_rate(p.ttime, p.finallength, tip_internode, b_internode)*cttime\n",
    "  p.width += growth_rate(p.ttime, InternodeRadius, tip_internode, b_internode)*cttime\n",
    "  \n",
    "  produce Internode(p)\n",
    "\n",
    "Leaf(p):\n",
    "  cttime = mthermaltime.get_effective_temperature(cdate)\n",
    "  p.ttime += cttime\n",
    "  \n",
    "  p.area += growth_rate(p.ttime, p.finalarea, tip_leaf, b_leaf)*cttime\n",
    "  \n",
    "  produce Leaf(p)\n",
    "\n",
    "interpretation:\n",
    "\n",
    "Internode(p) --> _(p.width) F(p.length)\n",
    "\n",
    "Leaf(p) :\n",
    "  if p.area > 0:\n",
    "    width = sqrt(p.area / 1.4)\n",
    "    length = 2 * width\n",
    "    produce ,(10)  SetContour(leafsection) TextureVScale(1./length) _(width/2) F(length)\n",
    "\n",
    "SimuInfo:\n",
    "  produce [@2D @M(0.8,0.8) @L(str(cdate))]\n",
    "\n",
    "endlsystem\n",
    "###### INITIALISATION ######\n",
    "\n",
    "__lpy_code_version__ = 1.1\n",
    "\n",
    "def __initialiseContext__(context):\n",
    "\timport openalea.plantgl.all as pgl\n",
    "\tPGL_140198936196256 = pgl.ImageTexture(\"PGL_140198936196256\" , \"./apple-leaf.png\" , )\n",
    "\tPGL_140198936196256.name = \"PGL_140198936196256\"\n",
    "\tColor_10 = pgl.Texture2D(image = PGL_140198936196256 , )\n",
    "\tColor_10.name = \"Color_10\"\n",
    "\tcontext.turtle.setMaterial(10,Color_10)\n",
    "\timport openalea.plantgl.all as pgl\n",
    "\tleafsection = pgl.Polyline2D(\t\n",
    "\t    pgl.Point2Array([(-1.01037, 0.524751),(-0.0030303, -0.00517379),(1.01037, 0.503186)]) , \n",
    "\t    )\n",
    "\tleafsection.name = \"leafsection\"\n",
    "\tpanel_0 = ({'active': True, 'visible': True, 'name': 'Panel 1'},[('Curve2D',leafsection)])\n",
    "\tparameterset = [panel_0,]\n",
    "\tcontext[\"__functions__\"] = []\n",
    "\tcontext[\"__curves__\"] = [('leafsection',leafsection),]\n",
    "\tcontext[\"__parameterset__\"] = parameterset\n",
    "\tcontext[\"leafsection\"] = leafsection\n"
   ]
  },
  {
   "cell_type": "code",
   "execution_count": null,
   "metadata": {},
   "outputs": [],
   "source": []
  }
 ],
 "metadata": {
  "celltoolbar": "Tags",
  "kernelspec": {
   "display_name": "Python 2",
   "language": "python",
   "name": "python2"
  },
  "language_info": {
   "codemirror_mode": {
    "name": "ipython",
    "version": 2
   },
   "file_extension": ".py",
   "mimetype": "text/x-python",
   "name": "python",
   "nbconvert_exporter": "python",
   "pygments_lexer": "ipython2",
   "version": "2.7.14"
  }
 },
 "nbformat": 4,
 "nbformat_minor": 2
}
